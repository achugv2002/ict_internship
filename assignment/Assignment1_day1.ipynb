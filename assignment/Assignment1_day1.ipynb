{
  "nbformat": 4,
  "nbformat_minor": 0,
  "metadata": {
    "colab": {
      "provenance": [],
      "authorship_tag": "ABX9TyOMAdH0I8LjttN104Ty/8q0",
      "include_colab_link": true
    },
    "kernelspec": {
      "name": "python3",
      "display_name": "Python 3"
    },
    "language_info": {
      "name": "python"
    }
  },
  "cells": [
    {
      "cell_type": "markdown",
      "metadata": {
        "id": "view-in-github",
        "colab_type": "text"
      },
      "source": [
        "<a href=\"https://colab.research.google.com/github/achugv2002/ict_internship/blob/main/assignment/Assignment1_day1.ipynb\" target=\"_parent\"><img src=\"https://colab.research.google.com/assets/colab-badge.svg\" alt=\"Open In Colab\"/></a>"
      ]
    },
    {
      "cell_type": "markdown",
      "source": [
        "Question 1:-"
      ],
      "metadata": {
        "id": "ggF-fTzKYaMQ"
      }
    },
    {
      "cell_type": "code",
      "source": [
        "array = [18, 28, 37, 23, 5]\n",
        "sum = 0\n",
        "\n",
        "for num in array:\n",
        "    sum = sum + num\n",
        "\n",
        "print(\"the sum of the list is:\", sum)"
      ],
      "metadata": {
        "colab": {
          "base_uri": "https://localhost:8080/"
        },
        "id": "frkUXeTqYo1A",
        "outputId": "58dc76b0-6837-41a9-faed-9fb10218650e"
      },
      "execution_count": null,
      "outputs": [
        {
          "output_type": "stream",
          "name": "stdout",
          "text": [
            "the sum of the list is: 111\n"
          ]
        }
      ]
    },
    {
      "cell_type": "markdown",
      "source": [
        "Question 2:-"
      ],
      "metadata": {
        "id": "f4fd2_jWZnYO"
      }
    },
    {
      "cell_type": "code",
      "source": [
        "a = input(\"Enter a sentence: \")\n",
        "\n",
        "# a part\n",
        "print(\"Length of sentence is:\", len(a))\n",
        "\n",
        "# b part\n",
        "print(\"First half of sentence is :\",a[0:len(a)//2])"
      ],
      "metadata": {
        "colab": {
          "base_uri": "https://localhost:8080/"
        },
        "id": "GZQzzIQuZvqe",
        "outputId": "fff1363e-251f-407e-a4c1-17ef91afed8e"
      },
      "execution_count": null,
      "outputs": [
        {
          "output_type": "stream",
          "name": "stdout",
          "text": [
            "Enter a sentence: stringtheory\n",
            "Length of sentence is: 12\n",
            "First half of sentence is : string\n"
          ]
        }
      ]
    },
    {
      "cell_type": "markdown",
      "source": [
        "Question 3:-"
      ],
      "metadata": {
        "id": "xT7SHMAUapIZ"
      }
    },
    {
      "cell_type": "code",
      "source": [
        "s1 = input(\"Enter the first string: \")\n",
        "s2 = input(\"Enter the second string: \")\n",
        "\n",
        "# add\n",
        "result= s1 + s2\n",
        "print(\"The resultant string is:\",result)\n",
        "\n",
        "# Length of resultant string\n",
        "print(\"The length of the resultant string is:\", len(result))\n"
      ],
      "metadata": {
        "id": "WR3ovBXxayEB",
        "colab": {
          "base_uri": "https://localhost:8080/"
        },
        "outputId": "7c0d2f2f-1fc9-4eb0-fa44-12c1e325cc93"
      },
      "execution_count": null,
      "outputs": [
        {
          "output_type": "stream",
          "name": "stdout",
          "text": [
            "Enter the first string: goutham\n",
            "Enter the second string: suresh\n",
            "The resultant string is: gouthamsuresh\n",
            "The length of the resultant string is: 13\n"
          ]
        }
      ]
    },
    {
      "cell_type": "markdown",
      "source": [
        "Question 4:-"
      ],
      "metadata": {
        "id": "qhGKy9LseBCm"
      }
    },
    {
      "cell_type": "code",
      "source": [
        "a = (78, 45, 32, 19, 82, 77, 40, 39)\n",
        "\n",
        "print(\"Original tuple:\", a)\n",
        "\n",
        "# change the tuple into list and then converting the 3rd element into 100\n",
        "# tuple are immutative ie., they cannot be changed\n",
        "a1=list(a)\n",
        "a1[2]=100\n",
        "\n",
        "#printing the new tuple\n",
        "b=tuple(a1)\n",
        "print(\"Changed tuple:\", b)"
      ],
      "metadata": {
        "colab": {
          "base_uri": "https://localhost:8080/"
        },
        "id": "57Gm_ccHeEST",
        "outputId": "b8088074-d126-4a30-afe1-f5367a31133d"
      },
      "execution_count": null,
      "outputs": [
        {
          "output_type": "stream",
          "name": "stdout",
          "text": [
            "Original tuple: (78, 45, 32, 19, 82, 77, 40, 39)\n",
            "Changed tuple: (78, 45, 100, 19, 82, 77, 40, 39)\n"
          ]
        }
      ]
    },
    {
      "cell_type": "markdown",
      "source": [
        "Question 5:-"
      ],
      "metadata": {
        "id": "LJWRRQCPeP2T"
      }
    },
    {
      "cell_type": "code",
      "source": [
        "def sum_new(a):\n",
        "    total = 0\n",
        "    for i in a:\n",
        "        total += i\n",
        "    return total\n",
        "\n",
        "\n",
        "lstA = [19, 32, 10, 55, 31, 32, 94, 29, 10, 65, 77, 40, 40]\n",
        "\n",
        "# delete first occurrence of 32\n",
        "lstA.remove(32)\n",
        "print(\"List after deleting first occurence of 32:\",lstA)\n",
        "\n",
        "# delete all occurrences of 40\n",
        "while 40 in lstA:\n",
        "    lstA.remove(40)\n",
        "print(\"List after removing all occurences of 40:\",lstA)\n",
        "\n",
        "# delete the value at index 5\n",
        "del lstA[5]\n",
        "print(\"List after removing value at index=5:\",lstA)\n",
        "\n",
        "# modify the value at index 9 to 300\n",
        "#cannot modify since there is no index=9\n",
        "#lstA[9] = 300\n",
        "\n",
        "# add 200 at index 2\n",
        "lstA.insert(2, 200)\n",
        "print(\"List after adding 200 at index=2:\",lstA)\n",
        "\n",
        "# print the final list with its length, maximum value, and sum of all elements\n",
        "print(\"Final list:\", lstA)\n",
        "print(\"Length of list:\", len(lstA))\n",
        "print(\"Maximum value in list:\", max(lstA))\n",
        "print(\"Sum of all elements in list:\", sum_new(lstA))"
      ],
      "metadata": {
        "colab": {
          "base_uri": "https://localhost:8080/"
        },
        "id": "PHQu1LlYeVCu",
        "outputId": "206ef1b6-f226-41bb-929a-1204e70f5a4c"
      },
      "execution_count": null,
      "outputs": [
        {
          "output_type": "stream",
          "name": "stdout",
          "text": [
            "List after deleting first occurence of 32: [19, 10, 55, 31, 32, 94, 29, 10, 65, 77, 40, 40]\n",
            "List after removing all occurences of 40: [19, 10, 55, 31, 32, 94, 29, 10, 65, 77]\n",
            "List after removing value at index=5: [19, 10, 55, 31, 32, 29, 10, 65, 77]\n",
            "List after adding 200 at index=2: [19, 10, 200, 55, 31, 32, 29, 10, 65, 77]\n",
            "Final list: [19, 10, 200, 55, 31, 32, 29, 10, 65, 77]\n",
            "Length of list: 10\n",
            "Maximum value in list: 200\n",
            "Sum of all elements in list: 528\n"
          ]
        }
      ]
    }
  ]
}