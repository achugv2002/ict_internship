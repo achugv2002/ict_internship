{
  "nbformat": 4,
  "nbformat_minor": 0,
  "metadata": {
    "colab": {
      "provenance": [],
      "authorship_tag": "ABX9TyPUUl0/gx7Bgosi9Ve8Qiy0",
      "include_colab_link": true
    },
    "kernelspec": {
      "name": "python3",
      "display_name": "Python 3"
    },
    "language_info": {
      "name": "python"
    }
  },
  "cells": [
    {
      "cell_type": "markdown",
      "metadata": {
        "id": "view-in-github",
        "colab_type": "text"
      },
      "source": [
        "<a href=\"https://colab.research.google.com/github/achugv2002/ict_internship/blob/main/assignment/Day2_Assignment2.ipynb\" target=\"_parent\"><img src=\"https://colab.research.google.com/assets/colab-badge.svg\" alt=\"Open In Colab\"/></a>"
      ]
    },
    {
      "cell_type": "markdown",
      "source": [
        "Question 1:-"
      ],
      "metadata": {
        "id": "Tww2ZZb-_i60"
      }
    },
    {
      "cell_type": "code",
      "source": [
        "f_list=[\"banana\", \"orange\", \"mango\", \"lemon\"] \n",
        "print(\"Original List : \")\n",
        "for i in f_list:\n",
        " print(i)\n",
        "print(\"\\n\")\n",
        "print(\"Reverse List : \")\n",
        "for i in range(len(f_list)-1,-1,-1):\n",
        "   print (f_list[i])"
      ],
      "metadata": {
        "colab": {
          "base_uri": "https://localhost:8080/"
        },
        "id": "cevrArLZ_qxs",
        "outputId": "b3ffdd4b-d2c1-451d-c8c0-b75b96e9da2b"
      },
      "execution_count": null,
      "outputs": [
        {
          "output_type": "stream",
          "name": "stdout",
          "text": [
            "Original List : \n",
            "banana\n",
            "orange\n",
            "mango\n",
            "lemon\n",
            "\n",
            "\n",
            "Reverse List : \n",
            "lemon\n",
            "mango\n",
            "orange\n",
            "banana\n"
          ]
        }
      ]
    },
    {
      "cell_type": "markdown",
      "source": [
        "Question 2:-"
      ],
      "metadata": {
        "id": "PKxw3VQLALtz"
      }
    },
    {
      "cell_type": "code",
      "source": [
        "def fibo(n):\n",
        " if n <= 1:\n",
        "   return n\n",
        " else:\n",
        "    return (fibo(n-1) + fibo(n-2))\n",
        "\n",
        "for i in range(10):\n",
        "    print(fibo(i),end=\"\\n\")"
      ],
      "metadata": {
        "colab": {
          "base_uri": "https://localhost:8080/"
        },
        "id": "ivrxzGCsAPuG",
        "outputId": "686c8ebe-93d2-492f-eefe-c948ad016b3b"
      },
      "execution_count": null,
      "outputs": [
        {
          "output_type": "stream",
          "name": "stdout",
          "text": [
            "0\n",
            "1\n",
            "1\n",
            "2\n",
            "3\n",
            "5\n",
            "8\n",
            "13\n",
            "21\n",
            "34\n"
          ]
        }
      ]
    },
    {
      "cell_type": "markdown",
      "source": [
        "Question 3:-"
      ],
      "metadata": {
        "id": "qBwbbZPEAfZx"
      }
    },
    {
      "cell_type": "code",
      "source": [
        "a=0\n",
        "b=100\n",
        "count=0    # count variable is used to find the number of prime nos\n",
        "print(\"Prime numbers between 0 and 100 : \")\n",
        "for num in range(a, b + 1):\n",
        "   if num > 1:\n",
        "       for i in range(2, num):\n",
        "           if (num % i) == 0:\n",
        "                break\n",
        "       else:\n",
        "           print(num)\n",
        "           count=count+1\n",
        "print(\" Total number of prime numbers between 0 and 100 are :\" , count)"
      ],
      "metadata": {
        "colab": {
          "base_uri": "https://localhost:8080/"
        },
        "id": "1SZSLq4lAimi",
        "outputId": "5ede46d6-78a8-49a8-e3be-42eea67ccb69"
      },
      "execution_count": null,
      "outputs": [
        {
          "output_type": "stream",
          "name": "stdout",
          "text": [
            "Prime numbers between 0 and 100 : \n",
            "2\n",
            "3\n",
            "5\n",
            "7\n",
            "11\n",
            "13\n",
            "17\n",
            "19\n",
            "23\n",
            "29\n",
            "31\n",
            "37\n",
            "41\n",
            "43\n",
            "47\n",
            "53\n",
            "59\n",
            "61\n",
            "67\n",
            "71\n",
            "73\n",
            "79\n",
            "83\n",
            "89\n",
            "97\n",
            " Total number of prime numbers between 0 and 100 are : 25\n"
          ]
        }
      ]
    },
    {
      "cell_type": "markdown",
      "source": [
        "Question 4:-"
      ],
      "metadata": {
        "id": "QXN7c1XxAxnF"
      }
    },
    {
      "cell_type": "code",
      "source": [
        "a=int(input(\"Enter a number : \"))\n",
        "if a % 2==0:                         #checks whether the number inputted is even or not\n",
        "   print(a,\"is even and the square of the number is : \",a*a)\n",
        "else:\n",
        "         print(a,\"is odd number and the cube of the number is : \",a*a*a)"
      ],
      "metadata": {
        "colab": {
          "base_uri": "https://localhost:8080/"
        },
        "id": "wiHJkz1GA1lt",
        "outputId": "ce3a0f98-40ef-44d9-ee12-afba016747b5"
      },
      "execution_count": null,
      "outputs": [
        {
          "output_type": "stream",
          "name": "stdout",
          "text": [
            "Enter a number : 8\n",
            "8 is even and the square of the number is :  64\n"
          ]
        }
      ]
    },
    {
      "cell_type": "markdown",
      "source": [
        "Question 5:-"
      ],
      "metadata": {
        "id": "dllF63qjBOh1"
      }
    },
    {
      "cell_type": "code",
      "source": [
        "a = input(\"Enter sentence: \")\n",
        "longest = max(a.split(), key=len)       # Finding longest word\n",
        "print(\"Longest word is: \", longest ,\"\\n And its length is: \", len(longest))     # Displaying longest word"
      ],
      "metadata": {
        "colab": {
          "base_uri": "https://localhost:8080/"
        },
        "id": "3KyaTTOLBTrV",
        "outputId": "5395f244-1fe4-4d2d-81e2-7290b46ddfaf"
      },
      "execution_count": null,
      "outputs": [
        {
          "output_type": "stream",
          "name": "stdout",
          "text": [
            "Enter sentence: welcome to colaboratory\n",
            "Longest word is:  colaboratory \n",
            " And its length is:  12\n"
          ]
        }
      ]
    },
    {
      "cell_type": "markdown",
      "source": [
        "Question 6:-"
      ],
      "metadata": {
        "id": "k2a5CLzJCgOq"
      }
    },
    {
      "cell_type": "code",
      "source": [
        "sum = 0\n",
        "n = 5\n",
        "print(\"Enter 5 numbers : \")\n",
        "i = 0\n",
        "while i < n:\n",
        "    num = int(input())  # inputting each number one by one\n",
        "    sum = sum+num       # summing up each number\n",
        "    i += 1\n",
        "avg = sum/n             # finding the average\n",
        "print(\"The average of 5 numbers : \",avg)"
      ],
      "metadata": {
        "colab": {
          "base_uri": "https://localhost:8080/"
        },
        "id": "h3ApTrTUCjMY",
        "outputId": "22634e3d-9fb6-43e5-c368-0bd5098deb1a"
      },
      "execution_count": null,
      "outputs": [
        {
          "output_type": "stream",
          "name": "stdout",
          "text": [
            "Enter 5 numbers : \n",
            "7\n",
            "7\n",
            "7\n",
            "7\n",
            "7\n",
            "The average of 5 numbers :  7.0\n"
          ]
        }
      ]
    },
    {
      "cell_type": "markdown",
      "source": [
        "Question 7:-"
      ],
      "metadata": {
        "id": "-k_Q4vI1Czlc"
      }
    },
    {
      "cell_type": "code",
      "source": [
        "n=int(input(\"Enter a number:\"))\n",
        "total=0                    #total variable to find the sum of digits\n",
        "while(n>0):\n",
        "    dig=n%10             # modulus performed to extract the last digit of the number\n",
        "    total=total+dig      # extracted digit is summed up    \n",
        "    n=n//10              # divides to extract the quoitent\n",
        "print(\"The total sum of digits is:\",total)"
      ],
      "metadata": {
        "colab": {
          "base_uri": "https://localhost:8080/"
        },
        "id": "9JxnhpOTC3Zp",
        "outputId": "f4b42392-995f-4501-892f-087c4c97a4eb"
      },
      "execution_count": null,
      "outputs": [
        {
          "output_type": "stream",
          "name": "stdout",
          "text": [
            "Enter a number:77\n",
            "The total sum of digits is: 14\n"
          ]
        }
      ]
    },
    {
      "cell_type": "markdown",
      "source": [
        "Question 8:-"
      ],
      "metadata": {
        "id": "wpKKg4zeDKXO"
      }
    },
    {
      "cell_type": "code",
      "source": [
        "i=0\n",
        "prin=100000\n",
        "rate=5/100\n",
        "while(i<5):\n",
        "  inter=prin*rate\n",
        "  amount=prin+inter\n",
        "  print(\"Interest at \",i+1,\"year is : \",inter, \" and the amount is : \",amount)\n",
        "  prin=amount\n",
        "  i=i+1"
      ],
      "metadata": {
        "colab": {
          "base_uri": "https://localhost:8080/"
        },
        "id": "lhMzz3xrDOM1",
        "outputId": "a7e90b60-e357-4243-f073-6323ff3bce3d"
      },
      "execution_count": null,
      "outputs": [
        {
          "output_type": "stream",
          "name": "stdout",
          "text": [
            "Interest at  1 year is :  5000.0  and the amount is :  105000.0\n",
            "Interest at  2 year is :  5250.0  and the amount is :  110250.0\n",
            "Interest at  3 year is :  5512.5  and the amount is :  115762.5\n",
            "Interest at  4 year is :  5788.125  and the amount is :  121550.625\n",
            "Interest at  5 year is :  6077.53125  and the amount is :  127628.15625\n"
          ]
        }
      ]
    },
    {
      "cell_type": "markdown",
      "source": [
        "Question 9:-"
      ],
      "metadata": {
        "id": "7U5jT9wlDkHy"
      }
    },
    {
      "cell_type": "code",
      "source": [
        "# a part --- check 2034 is leap year or not\n",
        "\n",
        "a=int(input(\"enter the year to be checked \"))\n",
        "if a%4==0 and a % 100!=0 or a%400==0 :\n",
        "   print (a,\"is leap year\") \n",
        "else:\n",
        "    print(a,\"is not leap year\")"
      ],
      "metadata": {
        "colab": {
          "base_uri": "https://localhost:8080/"
        },
        "id": "TRxhrzTqDoNw",
        "outputId": "9b413db1-58e9-486e-82b1-7d888a676b8c"
      },
      "execution_count": null,
      "outputs": [
        {
          "output_type": "stream",
          "name": "stdout",
          "text": [
            "enter the year to be checked 2034\n",
            "2034 is not leap year\n"
          ]
        }
      ]
    },
    {
      "cell_type": "code",
      "source": [
        "# b part ---- check 2048 is leap year or not\n",
        "a=int(input(\"enter the year to be checked \"))\n",
        "if a%4==0 and a % 100!=0 or a%400==0 :\n",
        "   print (a,\"is leap year\") \n",
        "else:\n",
        "    print(a,\"is not leap year\")"
      ],
      "metadata": {
        "colab": {
          "base_uri": "https://localhost:8080/"
        },
        "id": "tncxZ3csDxbo",
        "outputId": "d0fca46d-75a1-404c-9285-5c6573576ec4"
      },
      "execution_count": null,
      "outputs": [
        {
          "output_type": "stream",
          "name": "stdout",
          "text": [
            "enter the year to be checked 2048\n",
            "2048 is leap year\n"
          ]
        }
      ]
    }
  ]
}